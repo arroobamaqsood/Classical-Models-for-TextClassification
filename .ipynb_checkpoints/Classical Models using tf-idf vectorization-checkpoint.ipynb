{
 "cells": [
  {
   "cell_type": "code",
   "execution_count": null,
   "id": "2dd41d20",
   "metadata": {},
   "outputs": [],
   "source": [
    "import pandas as pd\n",
    "import numpy as np\n",
    "import os\n",
    "import matplotlib.pyplot as plt\n",
    "import plotly.figure_factory as ff\n",
    "import re\n",
    "# import string\n",
    "# string.punctuation\n",
    "import nltk\n",
    "from nltk.corpus import stopwords\n",
    "nltk.download('stopwords')\n",
    "from sklearn.feature_extraction.text import TfidfVectorizer\n",
    "from sklearn.preprocessing import LabelEncoder\n",
    "from sklearn.model_selection import train_test_split\n",
    "from sklearn.tree import DecisionTreeClassifier\n",
    "from sklearn import svm\n",
    "from sklearn.linear_model import LogisticRegression\n",
    "from sklearn.ensemble import RandomForestClassifier\n",
    "from sklearn.naive_bayes import MultinomialNB\n",
    "from sklearn.metrics import precision_score, recall_score, f1_score, classification_report, accuracy_score\n",
    "# from tqdm import tqdm\n",
    "from tqdm import tqdm_notebook as tqdm"
   ]
  },
  {
   "cell_type": "code",
   "execution_count": null,
   "id": "c292bd01",
   "metadata": {},
   "outputs": [],
   "source": [
    "path_to_dataset = r'./dataset/IMDB Dataset.csv' # path to your dataset\n",
    "df = pd.read_csv(path_to_dataset)\n",
    "df.head()"
   ]
  },
  {
   "cell_type": "code",
   "execution_count": null,
   "id": "1e607ae5",
   "metadata": {},
   "outputs": [],
   "source": [
    "# Text preprocessing\n",
    "for index, row in tqdm(df.iterrows()):\n",
    "    text = row['review']\n",
    "    text = re.sub(r\"\\xa0\",\" \",text)\n",
    "    text = text.split(\"\\n\") # splitting using new line character\n",
    "    text = [re.sub(r'[^a-zA-Z0-9.,)\\-(/?\\t ]','',sentence) for sentence in text] # removing everything other than these a-zA-Z0-9.,)\\-(/?\\t\n",
    "    text = [re.sub(r'(?<=[^0-9])/(?=[^0-9])',' ',sentence) for sentence in text]\n",
    "    text = [re.sub(\"\\t+\",\" \",sentence) for sentence in text] # converting multiple tabs and spaces ito a single tab or space\n",
    "    text = [re.sub(\" +\",\" \",sentence) for sentence in text]\n",
    "    text = [re.sub(\"\\.\\.+\",\"\",sentence) for sentence in text]# these were the commmon noises in out data, depends on data\n",
    "    text = [re.sub(\"\\A ?\",\"\",sentence) for sentence in text]\n",
    "    text = [sentence for sentence in text if(len(sentence) != 1 and not re.fullmatch(\"(\\d|\\d\\d|\\d\\d\\d)\",sentence))]\n",
    "    text = [re.sub('\\A\\(?(\\d|\\d\\d\\d|\\d\\d|[a-zA-Z])(\\.|\\))\\s?(?=[A-Z])','\\n',sentence) for sentence in text]#dividing into para wrt to points\n",
    "    text = [re.sub(\"\\A\\(([ivx]+)\\)\\s?(?=[a-zA-Z0-9])\",'\\n',sentence) for sentence in text] #dividing into para wrt to roman points\n",
    "    text_new = \" \".join(text) # joining all the lines into a single text\n",
    "    text_new = re.sub(\" +\",\" \",text_new)\n",
    "    df['review'][index] = text_new\n",
    "            \n",
    "print(\"Completed\")"
   ]
  },
  {
   "cell_type": "code",
   "execution_count": null,
   "id": "a53384ee",
   "metadata": {},
   "outputs": [],
   "source": [
    "X_train, X_test, Y_train, Y_test = train_test_split(df['review'], df['sentiment'], test_size = 0.2, shuffle = True, random_state= 32)"
   ]
  },
  {
   "cell_type": "code",
   "execution_count": null,
   "id": "c0565ebf",
   "metadata": {},
   "outputs": [],
   "source": [
    "print('Shape of X_train', X_train.shape)\n",
    "print('Shape of X_test', X_test.shape)"
   ]
  },
  {
   "cell_type": "markdown",
   "id": "9356ff6d",
   "metadata": {},
   "source": [
    "### Vectorization"
   ]
  },
  {
   "cell_type": "code",
   "execution_count": null,
   "id": "cbc44171",
   "metadata": {},
   "outputs": [],
   "source": [
    "max_feature_num = 50000\n",
    "vectorizer = TfidfVectorizer(max_features = max_feature_num)\n",
    "train_vecs = vectorizer.fit_transform(X_train)\n",
    "test_vecs = TfidfVectorizer(max_features = max_feature_num, vocabulary = vectorizer.vocabulary_).fit_transform(X_test)\n",
    "# check the dimensions of feature vectors\n",
    "train_vecs.shape, test_vecs.shape"
   ]
  },
  {
   "cell_type": "code",
   "execution_count": null,
   "id": "01c06a40",
   "metadata": {},
   "outputs": [],
   "source": [
    "# Custom confusion matrix\n",
    "x_axes = ['positive', 'negative']\n",
    "y_axes =  ['negative', 'positive']\n",
    "\n",
    "def conf_matrix(z, x=x_axes, y=y_axes):\n",
    "    \n",
    "    z = np.flip(z, 0)\n",
    "\n",
    "    # change each element of z to type string for annotations\n",
    "    z_text = [[str(y) for y in x] for x in z]\n",
    "\n",
    "    # set up figure \n",
    "    fig = ff.create_annotated_heatmap(z, x=x, y=y, annotation_text=z_text, colorscale='Viridis')\n",
    "\n",
    "    # add title\n",
    "    fig.update_layout(title_text='<b>Confusion matrix</b>',\n",
    "                      xaxis = dict(title='Predicted value'),\n",
    "                      yaxis = dict(title='Real value')\n",
    "                     )\n",
    "\n",
    "    # add colorbar\n",
    "    fig['data'][0]['showscale'] = True\n",
    "    \n",
    "    return fig"
   ]
  },
  {
   "cell_type": "markdown",
   "id": "b4a07882",
   "metadata": {},
   "source": [
    "### Support Vector Machine"
   ]
  },
  {
   "cell_type": "code",
   "execution_count": null,
   "id": "ae72f564",
   "metadata": {},
   "outputs": [],
   "source": [
    "clf = svm.SVC(kernel='rbf', max_iter = 300) # Linear Kernel\n",
    "\n",
    "#Train the model using the training sets\n",
    "clf.fit(train_vecs, Y_train)\n",
    "\n",
    "# testing\n",
    "y_predsvm = clf.predict(test_vecs)"
   ]
  },
  {
   "cell_type": "code",
   "execution_count": null,
   "id": "b68d0c61",
   "metadata": {},
   "outputs": [],
   "source": [
    "train_accuracy = clf.score(train_vecs, Y_train)\n",
    "print(\"Training accuracy:\", train_accuracy)"
   ]
  },
  {
   "cell_type": "code",
   "execution_count": null,
   "id": "35e24252",
   "metadata": {},
   "outputs": [],
   "source": [
    "print(\"Test accuracy:\", metrics.accuracy_score(Y_test, y_predsvm))"
   ]
  },
  {
   "cell_type": "code",
   "execution_count": null,
   "id": "aa5e1d51",
   "metadata": {},
   "outputs": [],
   "source": [
    "print(\"F1 score: \" + str(f1_score(Y_test, y_predsvm, average = \"macro\")))\n",
    "print(\"Precision score: \" +str(precision_score(Y_test, y_predsvm, average = \"macro\")))\n",
    "print(\"Recall score: \" +str(recall_score(Y_test, y_predsvm, average = \"macro\")))  "
   ]
  },
  {
   "cell_type": "code",
   "execution_count": null,
   "id": "2851c73f",
   "metadata": {},
   "outputs": [],
   "source": [
    "conf_matrix(metrics.confusion_matrix(Y_test, y_predsvm))"
   ]
  },
  {
   "cell_type": "markdown",
   "id": "37750218",
   "metadata": {},
   "source": [
    "### Logistic Regression"
   ]
  },
  {
   "cell_type": "code",
   "execution_count": null,
   "id": "1541f349",
   "metadata": {},
   "outputs": [],
   "source": [
    "LR = LogisticRegression()\n",
    "\n",
    "#Train the model using the training sets\n",
    "LR.fit(train_vecs, Y_train)\n",
    "\n",
    "# testing\n",
    "y_predLR = LR.predict(test_vecs)"
   ]
  },
  {
   "cell_type": "code",
   "execution_count": null,
   "id": "12929334",
   "metadata": {},
   "outputs": [],
   "source": [
    "train_accuracy = LR.score(train_vecs, Y_train)\n",
    "print(\"Training accuracy:\", train_accuracy)"
   ]
  },
  {
   "cell_type": "code",
   "execution_count": null,
   "id": "2d0d5f04",
   "metadata": {},
   "outputs": [],
   "source": [
    "print(\"Testing accuracy:\",metrics.accuracy_score(Y_test, y_predLR))"
   ]
  },
  {
   "cell_type": "code",
   "execution_count": null,
   "id": "8fc5d300",
   "metadata": {},
   "outputs": [],
   "source": [
    "print(\"F1 score: \" + str(f1_score(Y_test, y_predLR, average = \"macro\")))\n",
    "print(\"Precision score: \" +str(precision_score(Y_test, y_predLR, average = \"macro\")))\n",
    "print(\"Recall score: \" +str(recall_score(Y_test, y_predLR, average = \"macro\"))) "
   ]
  },
  {
   "cell_type": "code",
   "execution_count": null,
   "id": "9b007008",
   "metadata": {},
   "outputs": [],
   "source": [
    "conf_matrix(metrics.confusion_matrix(Y_test, y_predLR))"
   ]
  },
  {
   "cell_type": "markdown",
   "id": "46657867",
   "metadata": {},
   "source": [
    "### Random Forest"
   ]
  },
  {
   "cell_type": "code",
   "execution_count": null,
   "id": "2cf0eac8",
   "metadata": {},
   "outputs": [],
   "source": [
    "RF = RandomForestClassifier(n_estimators = 450, max_depth = 29, random_state = 43)\n",
    "\n",
    "#Train the model using the training sets\n",
    "RF.fit(train_vecs, Y_train)\n",
    "\n",
    "# testing\n",
    "y_predRF = RF.predict(test_vecs)"
   ]
  },
  {
   "cell_type": "code",
   "execution_count": null,
   "id": "ad085914",
   "metadata": {},
   "outputs": [],
   "source": [
    "train_accuracy = RF.score(train_vecs, Y_train)\n",
    "print(\"Training accuracy:\", train_accuracy)"
   ]
  },
  {
   "cell_type": "code",
   "execution_count": null,
   "id": "1eeab081",
   "metadata": {},
   "outputs": [],
   "source": [
    "print(\"Testing accuracy:\",metrics.accuracy_score(Y_test, y_predRF))"
   ]
  },
  {
   "cell_type": "code",
   "execution_count": null,
   "id": "0d3bd3da",
   "metadata": {},
   "outputs": [],
   "source": [
    "print(\"F1 score: \" + str(f1_score(Y_test, y_predRF, average = \"macro\")))\n",
    "print(\"Precision score: \" +str(precision_score(Y_test, y_predRF, average = \"macro\")))\n",
    "print(\"Recall score: \" +str(recall_score(Y_test, y_predRF, average = \"macro\"))) "
   ]
  },
  {
   "cell_type": "code",
   "execution_count": null,
   "id": "8e47644f",
   "metadata": {},
   "outputs": [],
   "source": [
    "conf_matrix(metrics.confusion_matrix(Y_test, y_predRF))"
   ]
  },
  {
   "cell_type": "markdown",
   "id": "10bcd42f",
   "metadata": {},
   "source": [
    "### Naive Bayes"
   ]
  },
  {
   "cell_type": "code",
   "execution_count": null,
   "id": "dbb1f43d",
   "metadata": {},
   "outputs": [],
   "source": [
    "nb = MultinomialNB()\n",
    "\n",
    "# Train the model\n",
    "nb.fit(train_vecs, Y_train)"
   ]
  },
  {
   "cell_type": "code",
   "execution_count": null,
   "id": "377d6a06",
   "metadata": {},
   "outputs": [],
   "source": [
    "# Make class anf probability predictions\n",
    "y_pred_class = nb.predict(test_vecs)\n",
    "y_pred_prob = nb.predict_proba(test_vecs)[:, 1]"
   ]
  },
  {
   "cell_type": "code",
   "execution_count": null,
   "id": "05ad8ec0",
   "metadata": {},
   "outputs": [],
   "source": [
    "train_accuracy = nb.score(train_vecs, Y_train)\n",
    "print(\"Training accuracy:\", train_accuracy)"
   ]
  },
  {
   "cell_type": "code",
   "execution_count": null,
   "id": "d8d7a70c",
   "metadata": {},
   "outputs": [],
   "source": [
    "print('Test accuracy:', metrics.accuracy_score(Y_test, y_pred_class))"
   ]
  },
  {
   "cell_type": "code",
   "execution_count": null,
   "id": "2afe5e6f",
   "metadata": {},
   "outputs": [],
   "source": [
    "print(\"F1 score: \" + str(f1_score(Y_test, y_pred_class, average = \"macro\")))\n",
    "print(\"Precision score: \" +str(precision_score(Y_test, y_pred_class, average = \"macro\")))\n",
    "print(\"Recall score: \" +str(recall_score(Y_test, y_pred_class, average = \"macro\"))) "
   ]
  },
  {
   "cell_type": "code",
   "execution_count": null,
   "id": "a7a3fe2a",
   "metadata": {},
   "outputs": [],
   "source": [
    "conf_matrix(metrics.confusion_matrix(Y_test, y_pred_class))"
   ]
  },
  {
   "cell_type": "markdown",
   "id": "625052ed",
   "metadata": {},
   "source": [
    "### Decision Trees"
   ]
  },
  {
   "cell_type": "code",
   "execution_count": null,
   "id": "4f964f8d",
   "metadata": {},
   "outputs": [],
   "source": [
    "#criterion = entropy or gini\n",
    "\n",
    "clf_model = DecisionTreeClassifier(criterion = \"entropy\", random_state = 42, \n",
    "                                   max_depth = 23, \n",
    "                                   min_samples_leaf = 11)\n",
    "\n",
    "# testing\n",
    "clf_model.fit(train_vecs, Y_train)"
   ]
  },
  {
   "cell_type": "code",
   "execution_count": null,
   "id": "84f4774e",
   "metadata": {},
   "outputs": [],
   "source": [
    "y_predDT = clf_model.predict(test_vecs)"
   ]
  },
  {
   "cell_type": "code",
   "execution_count": null,
   "id": "574df618",
   "metadata": {},
   "outputs": [],
   "source": [
    "train_accuracy = clf_model.score(train_vecs, Y_train)\n",
    "print(\"Training accuracy:\", train_accuracy)"
   ]
  },
  {
   "cell_type": "code",
   "execution_count": null,
   "id": "781d3ece",
   "metadata": {},
   "outputs": [],
   "source": [
    "print(\"Testing accuracy:\",metrics.accuracy_score(Y_test, y_predDT))"
   ]
  },
  {
   "cell_type": "code",
   "execution_count": null,
   "id": "da78b791",
   "metadata": {},
   "outputs": [],
   "source": [
    "print(\"F1 score: \" + str(f1_score(Y_test, y_predDT, average = \"macro\")))\n",
    "print(\"Precision score: \" +str(precision_score(Y_test, y_predDT, average = \"macro\")))\n",
    "print(\"Recall score: \" +str(recall_score(Y_test, y_predDT, average = \"macro\"))) "
   ]
  },
  {
   "cell_type": "code",
   "execution_count": null,
   "id": "fbafd2ad",
   "metadata": {},
   "outputs": [],
   "source": [
    "conf_matrix(metrics.confusion_matrix(Y_test, y_predDT))"
   ]
  }
 ],
 "metadata": {
  "kernelspec": {
   "display_name": "Python 3 (ipykernel)",
   "language": "python",
   "name": "python3"
  },
  "language_info": {
   "codemirror_mode": {
    "name": "ipython",
    "version": 3
   },
   "file_extension": ".py",
   "mimetype": "text/x-python",
   "name": "python",
   "nbconvert_exporter": "python",
   "pygments_lexer": "ipython3",
   "version": "3.9.7"
  },
  "vscode": {
   "interpreter": {
    "hash": "a900363777843d533ef46ef4cddd42cd4196186c9a8c759e4e50dff4b09af016"
   }
  }
 },
 "nbformat": 4,
 "nbformat_minor": 5
}
